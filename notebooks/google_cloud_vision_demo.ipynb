{
 "cells": [
  {
   "cell_type": "code",
   "execution_count": 41,
   "metadata": {
    "collapsed": true
   },
   "outputs": [],
   "source": [
    "import io\n",
    "import os\n",
    "from pprint import pprint\n",
    "\n",
    "# Imports the Google Cloud client library\n",
    "from google.cloud import vision\n",
    "from google.cloud.vision.feature import Feature"
   ]
  },
  {
   "cell_type": "code",
   "execution_count": 6,
   "metadata": {
    "collapsed": false
   },
   "outputs": [],
   "source": [
    "# Instantiates a client\n",
    "vision_client = vision.Client(project=\"parralx\")\n",
    "\n",
    "# The name of the image file to annotate\n",
    "file_name = 'image/coke.jpg'\n",
    "\n",
    "# Loads the image into memory\n",
    "with io.open(file_name, 'rb') as image_file:\n",
    "    content = image_file.read()\n",
    "    image = vision_client.image(content=content)"
   ]
  },
  {
   "cell_type": "code",
   "execution_count": 9,
   "metadata": {
    "collapsed": false
   },
   "outputs": [
    {
     "name": "stdout",
     "output_type": "stream",
     "text": [
      "CPU times: user 4.74 ms, sys: 1.7 ms, total: 6.43 ms\n",
      "Wall time: 451 ms\n"
     ]
    }
   ],
   "source": [
    "labels = image.detect_labels()\n",
    "logos = image.detect_logos()\n",
    "safe_search = image.safe_search()\n"
   ]
  },
  {
   "cell_type": "code",
   "execution_count": 17,
   "metadata": {
    "collapsed": false
   },
   "outputs": [],
   "source": [
    "res = image.detect([Feature('LABEL_DETECTION'), Feature('LOGO_DETECTION'), Feature('SAFE_SEARCH_DETECTION')])\n",
    "r = res[0]"
   ]
  },
  {
   "cell_type": "code",
   "execution_count": 31,
   "metadata": {
    "collapsed": false
   },
   "outputs": [
    {
     "data": {
      "text/plain": [
       "[<google.cloud.vision.entity.EntityAnnotation at 0x10e67a898>]"
      ]
     },
     "execution_count": 31,
     "metadata": {},
     "output_type": "execute_result"
    }
   ],
   "source": [
    "r.logos[0]"
   ]
  },
  {
   "cell_type": "code",
   "execution_count": 38,
   "metadata": {
    "collapsed": false
   },
   "outputs": [
    {
     "data": {
      "text/plain": [
       "'POSSIBLE'"
      ]
     },
     "execution_count": 38,
     "metadata": {},
     "output_type": "execute_result"
    }
   ],
   "source": [
    "# Safe search\n",
    "safe_search = r.safe_searches\n",
    "safe_search.adult.name\n",
    "safe_search.violence.name"
   ]
  },
  {
   "cell_type": "code",
   "execution_count": 32,
   "metadata": {
    "collapsed": true
   },
   "outputs": [],
   "source": [
    "# Logos\n",
    "logos = [logo.description for logo in r.logos]"
   ]
  },
  {
   "cell_type": "code",
   "execution_count": 28,
   "metadata": {
    "collapsed": false
   },
   "outputs": [
    {
     "data": {
      "text/plain": [
       "0.46388131380081177"
      ]
     },
     "execution_count": 28,
     "metadata": {},
     "output_type": "execute_result"
    }
   ],
   "source": [
    "r=res[0]\n",
    "l=r.logos[0]\n",
    "l.description"
   ]
  },
  {
   "cell_type": "code",
   "execution_count": 10,
   "metadata": {
    "collapsed": true
   },
   "outputs": [],
   "source": [
    "%time?"
   ]
  },
  {
   "cell_type": "code",
   "execution_count": null,
   "metadata": {
    "collapsed": true
   },
   "outputs": [],
   "source": [
    "print('Labels:')\n",
    "for label in labels:\n",
    "    print(label.description)"
   ]
  },
  {
   "cell_type": "code",
   "execution_count": 39,
   "metadata": {
    "collapsed": true
   },
   "outputs": [],
   "source": [
    "def plarralx_verifiy(image_url):\n",
    "    image = vision_client.image(source_uri=image_url)\n",
    "    \n",
    "    res = image.detect([Feature('LABEL_DETECTION'), Feature('LOGO_DETECTION'), Feature('SAFE_SEARCH_DETECTION')])\n",
    "    r = res[0]\n",
    "    \n",
    "    # Logos\n",
    "    logos = [logo.description for logo in r.logos]\n",
    "    \n",
    "    # Safe search\n",
    "    safe_search = r.safe_searches\n",
    "    adult = safe_search.adult.name\n",
    "    violence = safe_search.violence.name\n",
    "    \n",
    "    # Labels\n",
    "    labels = [label.description for label in r.labels]\n",
    "    \n",
    "    output = {\n",
    "        'inappropriate_content': {\n",
    "            'contains_logos': logos,\n",
    "            'contains_adult': adult,\n",
    "            'contains_violence': violence\n",
    "        },\n",
    "        \n",
    "        'content_labels': labels\n",
    "    }\n",
    "    \n",
    "    return output"
   ]
  },
  {
   "cell_type": "code",
   "execution_count": 45,
   "metadata": {
    "collapsed": false
   },
   "outputs": [
    {
     "name": "stdout",
     "output_type": "stream",
     "text": [
      "{'content_labels': ['podium'],\n",
      " 'inappropriate_content': {'contains_adult': 'VERY_UNLIKELY',\n",
      "                           'contains_logos': ['Coke Studio'],\n",
      "                           'contains_violence': 'UNLIKELY'}}\n"
     ]
    }
   ],
   "source": [
    "pprint(plarralx_verifiy('https://moatsearch-data.s3.amazonaws.com/creative_screens/1c/8a/8f/1c8a8f319d9ffefce0b949d7098c10a1.png'))"
   ]
  }
 ],
 "metadata": {
  "kernelspec": {
   "display_name": "Python 3",
   "language": "python",
   "name": "python3"
  },
  "language_info": {
   "codemirror_mode": {
    "name": "ipython",
    "version": 3
   },
   "file_extension": ".py",
   "mimetype": "text/x-python",
   "name": "python",
   "nbconvert_exporter": "python",
   "pygments_lexer": "ipython3",
   "version": "3.6.0"
  }
 },
 "nbformat": 4,
 "nbformat_minor": 2
}
