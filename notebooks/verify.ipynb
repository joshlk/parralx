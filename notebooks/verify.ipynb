{
 "cells": [
  {
   "cell_type": "code",
   "execution_count": 4,
   "metadata": {
    "collapsed": true
   },
   "outputs": [],
   "source": [
    "from verify import plarralx_verifiy\n",
    "from pprint import pprint"
   ]
  },
  {
   "cell_type": "code",
   "execution_count": 5,
   "metadata": {
    "collapsed": false
   },
   "outputs": [
    {
     "name": "stdout",
     "output_type": "stream",
     "text": [
      "{'content_labels': ['podium'],\n",
      " 'inappropriate_content': {'contains_adult': 'VERY_UNLIKELY',\n",
      "                           'contains_logos': ['Coke Studio'],\n",
      "                           'contains_violence': 'UNLIKELY'}}\n"
     ]
    }
   ],
   "source": [
    "url = 'https://moatsearch-data.s3.amazonaws.com/creative_screens/1c/8a/8f/1c8a8f319d9ffefce0b949d7098c10a1.png'\n",
    "res = plarralx_verifiy(image_url=url)\n",
    "pprint(res)"
   ]
  }
 ],
 "metadata": {
  "kernelspec": {
   "display_name": "Python 3",
   "language": "python",
   "name": "python3"
  },
  "language_info": {
   "codemirror_mode": {
    "name": "ipython",
    "version": 3
   },
   "file_extension": ".py",
   "mimetype": "text/x-python",
   "name": "python",
   "nbconvert_exporter": "python",
   "pygments_lexer": "ipython3",
   "version": "3.6.0"
  }
 },
 "nbformat": 4,
 "nbformat_minor": 2
}
